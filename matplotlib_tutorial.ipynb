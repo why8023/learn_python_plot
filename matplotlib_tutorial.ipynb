{
 "cells": [
  {
   "cell_type": "code",
   "source": "# 综合实战：专业级图表模板\\n\\n# 1. 设置样式和参数\\nif 'seaborn-v0_8' in plt.style.available:\\n    plt.style.use('seaborn-v0_8')\\nelse:\\n    plt.style.use('default')\\n    \\n# 专业参数设置\\nprofessional_params = {\\n    'font.size': 12,\\n    'axes.labelsize': 14,\\n    'axes.titlesize': 16,\\n    'xtick.labelsize': 11,\\n    'ytick.labelsize': 11,\\n    'legend.fontsize': 12,\\n    'lines.linewidth': 2,\\n    'axes.grid': True,\\n    'grid.alpha': 0.3,\\n    'figure.facecolor': 'white',\\n    'savefig.dpi': 300,\\n    'savefig.bbox': 'tight'\\n}\\nplt.rcParams.update(professional_params)\\n\\n# 2. 创建数据\\nnp.random.seed(42)\\ntime_points = np.linspace(0, 100, 1000)\\ntrend = 0.05 * time_points  # 上升趋势\\nseasonal = 3 * np.sin(2 * np.pi * time_points / 12)  # 季节性\\nnoise = np.random.randn(1000) * 0.5  # 噪声\\nsignal = trend + seasonal + noise\\n\\n# 异常值检测\\nthreshold = np.std(signal) * 2\\nanomalies = np.abs(signal - np.mean(signal)) > threshold\\n\\n# 3. 创建综合图表\\nfig = plt.figure(figsize=(15, 10))\\ngs = fig.add_gridspec(3, 2, height_ratios=[2, 1, 1], layout='constrained')\\n\\n# 主图：时间序列 + 异常检测\\nax1 = fig.add_subplot(gs[0, :])\\nax1.plot(time_points, signal, 'b-', linewidth=1, label='原始信号', rasterized=True)\\nax1.plot(time_points, trend + seasonal, 'r--', linewidth=2, label='趋势+季节性')\\n\\n# 高亮异常值\\nax1.scatter(time_points[anomalies], signal[anomalies], \\n           color='red', s=50, zorder=5, label=f'异常值 ({np.sum(anomalies)}个)')\\n\\n# 填充置信区间\\nconf_upper = trend + seasonal + 2*np.std(noise)\\nconf_lower = trend + seasonal - 2*np.std(noise)\\nax1.fill_between(time_points, conf_upper, conf_lower, \\n                alpha=0.2, color='gray', label='95%置信区间')\\n\\nax1.set_ylabel('数值')\\nax1.set_title('时间序列分析与异常检测', fontweight='bold')\\nax1.legend(loc='upper left')\\nax1.grid(True, alpha=0.3)\\n\\n# 子图1：数据分布\\nax2 = fig.add_subplot(gs[1, 0])\\nax2.hist(signal, bins=50, density=True, alpha=0.7, color='skyblue', \\n        edgecolor='black', linewidth=0.5)\\n# 添加正态分布拟合\\nmu, sigma = np.mean(signal), np.std(signal)\\nx_norm = np.linspace(signal.min(), signal.max(), 100)\\ny_norm = (1/(sigma * np.sqrt(2*np.pi))) * np.exp(-0.5 * ((x_norm - mu)/sigma)**2)\\nax2.plot(x_norm, y_norm, 'r-', linewidth=2, label=f'N({mu:.1f}, {sigma:.1f}²)')\\nax2.set_xlabel('数值')\\nax2.set_ylabel('密度')\\nax2.set_title('数据分布')\\nax2.legend()\\n\\n# 子图2：移动统计\\nax3 = fig.add_subplot(gs[1, 1])\\nwindow = 50\\nrolling_mean = np.convolve(signal, np.ones(window)/window, mode='same')\\nrolling_std = np.array([np.std(signal[max(0, i-window//2):min(len(signal), i+window//2)]) \\n                      for i in range(len(signal))])\\n\\nax3.plot(time_points, rolling_mean, 'g-', linewidth=2, label=f'{window}点移动平均')\\nax3_twin = ax3.twinx()\\nax3_twin.plot(time_points, rolling_std, 'orange', linewidth=1.5, alpha=0.8, label='移动标准差')\\nax3.set_xlabel('时间')\\nax3.set_ylabel('移动平均', color='green')\\nax3_twin.set_ylabel('移动标准差', color='orange')\\nax3.set_title('移动统计')\\nax3.legend(loc='upper left')\\nax3_twin.legend(loc='upper right')\\n\\n# 子图3：自相关分析（简化版）\\nax4 = fig.add_subplot(gs[2, :])\\nlags = np.arange(0, 100)\\nautocorr = [np.corrcoef(signal[:-lag] if lag > 0 else signal, \\n                      signal[lag:] if lag > 0 else signal)[0,1] if lag > 0 \\n           else 1.0 for lag in lags]\\nax4.plot(lags, autocorr, 'purple', linewidth=2)\\nax4.axhline(y=0, color='black', linestyle='-', alpha=0.3)\\nax4.axhline(y=0.2, color='red', linestyle='--', alpha=0.5, label='显著性阈值')\\nax4.axhline(y=-0.2, color='red', linestyle='--', alpha=0.5)\\nax4.set_xlabel('滞后 (lag)')\\nax4.set_ylabel('自相关系数')\\nax4.set_title('自相关函数')\\nax4.legend()\\nax4.grid(True, alpha=0.3)\\n\\nplt.suptitle('Matplotlib 综合实战：专业数据分析图表', \\n            fontsize=18, fontweight='bold', y=0.95)\\n\\n# 添加水印/标注\\nfig.text(0.99, 0.01, '制作：Matplotlib Tutorial', \\n        ha='right', va='bottom', fontsize=8, alpha=0.7)\\n\\nplt.show()\\n\\nprint(\\\"\\\\n🎉 恭喜！你已经掌握了 Matplotlib 的核心技巧：\\\")\\nprint(\\\"✓ 非阻塞显示和交互更新\\\")\\nprint(\\\"✓ 现代布局引擎 (Constrained Layout)\\\")\\nprint(\\\"✓ 条件填充 (fill_between + where)\\\")\\nprint(\\\"✓ 性能优化 (光栅化、下采样、blitting)\\\")\\nprint(\\\"✓ 专业样式配置 (rcParams)\\\")\\nprint(\\\"✓ 多轴技巧 (双Y轴、共享轴)\\\")\\nprint(\\\"✓ 后端选择和高质量导出\\\")\\nprint(\\\"\\\\n现在你可以创建专业级的数据可视化图表了！\\\")\"",
   "metadata": {},
   "execution_count": null,
   "outputs": []
  },
  {
   "cell_type": "markdown",
   "source": "## 9. 综合实战模板\\n\\n**学习目标**: 整合所有技巧，创建一个专业的图表模板。\"",
   "metadata": {}
  },
  {
   "cell_type": "code",
   "source": "# 创建一个示例图表用于导出\\nfig, ax = plt.subplots(figsize=(10, 6), layout='constrained')\\n\\nx = np.linspace(0, 2*np.pi, 100)\\ny = np.sin(x) * np.exp(-x/5)\\nax.plot(x, y, 'b-', linewidth=2, label='衰减正弦波')\\nax.fill_between(x, y, 0, alpha=0.3, color='lightblue')\\nax.set_xlabel('时间 (s)')\\nax.set_ylabel('振幅')\\nax.set_title('专业导出示例图')\\nax.legend()\\nax.grid(True, alpha=0.3)\\n\\n# 展示不同的保存选项\\nprint(\\\"图像导出最佳实践：\\\")\\nprint(\\\"\\\\n1. 高分辨率PNG（适合论文、报告）\\\")\\nprint(\\\"   plt.savefig('figure.png', dpi=300, bbox_inches='tight')\\\")\\n\\nprint(\\\"\\\\n2. 矢量PDF（适合出版、印刷）\\\")\\nprint(\\\"   plt.savefig('figure.pdf', bbox_inches='tight', transparent=True)\\\")\\n\\nprint(\\\"\\\\n3. 去背景SVG（适合网页、PPT）\\\")\\nprint(\\\"   plt.savefig('figure.svg', bbox_inches='tight', transparent=True)\\\")\\n\\nprint(\\\"\\\\n关键参数：\\\")\\nparams = {\\n    'dpi=300': '高分辨率，300是印刷标准',\\n    \\\"bbox_inches='tight'\\\": '裁掉多余留白',\\n    'transparent=True': '透明背景',\\n    'facecolor=\\\"white\\\"': '指定背景色',\\n    'pad_inches=0.1': '边距设置'\\n}\\n\\nfor param, desc in params.items():\\n    print(f\\\"  {param:20s}: {desc}\\\")\\n\\n# 实际保存（注释掉避免产生文件）\\n# plt.savefig('example_high_quality.png', dpi=300, bbox_inches='tight')\\n\\nplt.show()\\nprint(\\\"\\\\n提示：在实际使用时取消注释保存命令\\\")\"",
   "metadata": {},
   "execution_count": null,
   "outputs": []
  },
  {
   "cell_type": "markdown",
   "source": "## 8. 导出设置（打印/论文友好）\\n\\n**学习目标**: 掌握高质量图像导出设置。\"",
   "metadata": {}
  },
  {
   "cell_type": "code",
   "source": "# 查询和了解后端\\nimport matplotlib\\nprint(f\\\"当前后端: {matplotlib.get_backend()}\\\")\\nprint(f\\\"是否交互式后端: {matplotlib.is_interactive()}\\\")\\n\\n# 查看可用后端（部分）\\nprint(\\\"\\\\n常见后端类型：\\\")\\nbackend_info = {\\n    'Agg': '非交互，只能保存文件，服务器环境常用',\\n    'TkAgg': '交互式，基于Tk GUI',\\n    'Qt5Agg': '交互式，基于Qt5',\\n    'notebook': 'Jupyter notebook内嵌显示',\\n}\\n\\nfor backend, description in backend_info.items():\\n    print(f\\\"  {backend:10s}: {description}\\\")\\n\\nprint(\\\"\\\\n注意：\\\")\\nprint(\\\"- 在服务器或CI环境中，通常使用 Agg 后端\\\")\\nprint(\\\"- 切换后端需要在导入pyplot之前调用 matplotlib.use()\\\")\\nprint(\\\"- Jupyter notebook会自动选择合适的后端\\\")\"",
   "metadata": {},
   "execution_count": null,
   "outputs": []
  },
  {
   "cell_type": "markdown",
   "source": "## 7. 后端选择与 Agg\\n\\n**学习目标**: 了解 Matplotlib 后端，知道何时使用 Agg 后端。\"",
   "metadata": {}
  },
  {
   "cell_type": "code",
   "source": "# 共享坐标轴示例\\nfig, (ax1, ax2, ax3) = plt.subplots(3, 1, figsize=(12, 10), \\n                                   sharex=True, layout='constrained')\\n\\n# 共享X轴的时间序列数据\\nt = np.linspace(0, 24, 100)  # 24小时\\nsignal1 = np.sin(2*np.pi*t/12) + 0.1*np.random.randn(100)  # 12小时周期\\nsignal2 = np.cos(2*np.pi*t/8) + 0.1*np.random.randn(100)   # 8小时周期\\nsignal3 = np.sin(2*np.pi*t/6) * 0.5 + 0.05*np.random.randn(100)  # 6小时周期\\n\\nax1.plot(t, signal1, 'b-', linewidth=1.5)\\nax1.set_ylabel('信号1\\\\n(12h周期)')\\nax1.grid(True, alpha=0.3)\\n\\nax2.plot(t, signal2, 'g-', linewidth=1.5)\\nax2.set_ylabel('信号2\\\\n(8h周期)')\\nax2.grid(True, alpha=0.3)\\n\\nax3.plot(t, signal3, 'r-', linewidth=1.5)\\nax3.set_ylabel('信号3\\\\n(6h周期)')\\nax3.set_xlabel('时间 (小时)')\\nax3.grid(True, alpha=0.3)\\n\\nplt.suptitle('共享X轴的多信号对比')\\nplt.show()\\nprint(\\\"共享坐标轴：便于对比不同数据的时间模式\\\")\"",
   "metadata": {},
   "execution_count": null,
   "outputs": []
  },
  {
   "cell_type": "code",
   "source": "# 双Y轴示例\\nfig, ax1 = plt.subplots(figsize=(12, 6), layout='constrained')\\n\\n# 左Y轴数据（温度）\\nx = np.arange(12)\\ntemperature = [5, 8, 12, 18, 23, 28, 31, 29, 25, 19, 12, 7]\\nax1.plot(x, temperature, 'r-o', linewidth=2, label='温度')\\nax1.set_xlabel('月份')\\nax1.set_ylabel('温度 (°C)', color='red')\\nax1.tick_params(axis='y', labelcolor='red')\\n\\n# 创建右Y轴\\nax2 = ax1.twinx()\\n# 右Y轴数据（降水量）\\nrainfall = [45, 38, 42, 55, 78, 120, 135, 128, 98, 68, 55, 48]\\nax2.bar(x, rainfall, alpha=0.6, color='blue', label='降水量')\\nax2.set_ylabel('降水量 (mm)', color='blue')\\nax2.tick_params(axis='y', labelcolor='blue')\\n\\nplt.title('气候数据：温度与降水量')\\n# 合并图例\\nlines1, labels1 = ax1.get_legend_handles_labels()\\nlines2, labels2 = ax2.get_legend_handles_labels()\\nax1.legend(lines1 + lines2, labels1 + labels2, loc='upper left')\\n\\nplt.show()\\nprint(\\\"双Y轴：适用于显示不同量纲的两组数据\\\")\"",
   "metadata": {},
   "execution_count": null,
   "outputs": []
  },
  {
   "cell_type": "markdown",
   "source": "## 6. 常用坐标轴/多轴技巧\\n\\n**学习目标**: 掌握坐标轴的高级用法，包括双Y轴、共享坐标轴等。\"",
   "metadata": {}
  },
  {
   "cell_type": "code",
   "source": "# 使用自定义样式创建图表\\nfig, (ax1, ax2) = plt.subplots(1, 2, figsize=(14, 6), layout='constrained')\\n\\n# 左图：线图\\nx = np.linspace(0, 10, 50)\\ny1 = np.exp(-x/5) * np.sin(x)\\ny2 = np.exp(-x/5) * np.cos(x)\\n\\nax1.plot(x, y1, label='衰减正弦', marker='o', markersize=4)\\nax1.plot(x, y2, label='衰减余弦', marker='s', markersize=4)\\nax1.set_xlabel('时间 (s)')\\nax1.set_ylabel('振幅')\\nax1.set_title('衰减振荡')\\nax1.legend()\\n\\n# 右图：柱状图\\ncategories = ['A', 'B', 'C', 'D', 'E']\\nvalues = [23, 45, 56, 78, 32]\\nerrors = [2, 3, 4, 1, 2]\\n\\nbars = ax2.bar(categories, values, yerr=errors, capsize=5, \\n               alpha=0.8, edgecolor='black', linewidth=1)\\nax2.set_xlabel('类别')\\nax2.set_ylabel('数值')\\nax2.set_title('带误差棒的柱状图')\\n\\n# 为柱子添加数值标签\\nfor bar, value in zip(bars, values):\\n    ax2.text(bar.get_x() + bar.get_width()/2, bar.get_height() + 1,\\n             str(value), ha='center', va='bottom')\\n\\nplt.suptitle('自定义样式效果展示', fontsize=18)\\nplt.show()\\n\\nprint(\\\"注意观察自定义样式的效果：\\\")\\nprint(\\\"- 更大的字体和线条\\\")\\nprint(\\\"- 淡灰色背景\\\")\\nprint(\\\"- 半透明网格\\\")\\nprint(\\\"- 整体专业美观\\\")\"",
   "metadata": {},
   "execution_count": null,
   "outputs": []
  },
  {
   "cell_type": "markdown",
   "source": "### 5.4 测试自定义样式效果\\n\\n看看我们的自定义设置效果如何：\"",
   "metadata": {}
  },
  {
   "cell_type": "code",
   "source": "# 保存原始设置\\noriginal_rcParams = plt.rcParams.copy()\\n\\n# 选择一个基础样式\\nif 'seaborn-v0_8' in available_styles:\\n    plt.style.use('seaborn-v0_8')\\nelse:\\n    plt.style.use('default')\\n\\nprint(\\\"当前一些关键 rcParams 设置：\\\")\\nkey_params = [\\n    'font.size', 'axes.labelsize', 'axes.titlesize', \\n    'xtick.labelsize', 'ytick.labelsize', 'legend.fontsize',\\n    'figure.figsize', 'lines.linewidth', 'axes.grid'\\n]\\n\\nfor param in key_params:\\n    if param in plt.rcParams:\\n        print(f\\\"{param:20s}: {plt.rcParams[param]}\\\")\\n\\n# 自定义 rcParams\\ncustom_params = {\\n    'font.size': 12,          # 默认字体大小\\n    'axes.labelsize': 14,     # 轴标签字体大小\\n    'axes.titlesize': 16,     # 标题字体大小\\n    'xtick.labelsize': 10,    # x轴刻度标签字体大小\\n    'ytick.labelsize': 10,    # y轴刻度标签字体大小\\n    'legend.fontsize': 11,    # 图例字体大小\\n    'lines.linewidth': 2.5,   # 线条宽度\\n    'axes.grid': True,        # 显示网格\\n    'grid.alpha': 0.3,        # 网格透明度\\n    'figure.facecolor': 'white',  # 图片背景色\\n    'axes.facecolor': '#f8f8f8',  # 坐标轴背景色\\n}\\n\\n# 应用自定义设置\\nplt.rcParams.update(custom_params)\\n\\nprint(\\\"\\\\n应用自定义设置后：\\\")\\nfor param in key_params:\\n    if param in plt.rcParams:\\n        print(f\\\"{param:20s}: {plt.rcParams[param]}\\\")\"",
   "metadata": {},
   "execution_count": null,
   "outputs": []
  },
  {
   "cell_type": "markdown",
   "source": "### 5.3 使用 rcParams 微调样式\\n\\n在选定样式表后，用 rcParams 进行细节调整：\"",
   "metadata": {}
  },
  {
   "cell_type": "code",
   "source": "# 创建测试数据\\nx = np.linspace(0, 10, 100)\\ny1 = np.sin(x)\\ny2 = np.cos(x)\\ny3 = np.sin(x + np.pi/4)\\n\\n# 选择几个代表性样式进行比较\\nstyles_to_compare = ['default', 'seaborn-v0_8', 'ggplot', 'bmh']\\n# 过滤掉不存在的样式\\nstyles_to_compare = [s for s in styles_to_compare if s in available_styles]\\n\\nfig, axes = plt.subplots(2, 2, figsize=(15, 10), layout='constrained')\\naxes = axes.flatten()\\n\\nfor i, style_name in enumerate(styles_to_compare):\\n    with plt.style.context(style_name):  # 临时使用样式，不影响全局\\n        ax = axes[i]\\n        ax.plot(x, y1, label='sin(x)', linewidth=2)\\n        ax.plot(x, y2, label='cos(x)', linewidth=2)\\n        ax.plot(x, y3, label='sin(x+π/4)', linewidth=2)\\n        ax.set_title(f'样式: {style_name}', fontsize=14)\\n        ax.set_xlabel('x')\\n        ax.set_ylabel('y')\\n        ax.legend()\\n        ax.grid(True)\\n\\nplt.suptitle('不同样式表效果对比', fontsize=16)\\nplt.show()\\n\\nprint(\\\"观察要点：\\\")\\nprint(\\\"- 颜色方案和线条样式\\\")\\nprint(\\\"- 网格和背景样式\\\")\\nprint(\\\"- 字体和标题样式\\\")\\nprint(\\\"- 整体视觉风格\\\")\"",
   "metadata": {},
   "execution_count": null,
   "outputs": []
  },
  {
   "cell_type": "markdown",
   "source": "### 5.2 对比不同样式表效果\\n\\n让我们直观看看不同样式表的效果：\"",
   "metadata": {}
  },
  {
   "cell_type": "code",
   "source": "# 查看所有可用的样式表\\navailable_styles = plt.style.available\\nprint(\\\"Matplotlib 可用样式表:\\\")\\nfor i, style in enumerate(available_styles):\\n    print(f\\\"{i+1:2d}. {style}\\\")\\n\\nprint(f\\\"\\\\n共有 {len(available_styles)} 个内置样式\\\")\\nprint(\\\"\\\\n推荐样式:\\\")\\nrecommended = ['default', 'seaborn-v0_8', 'ggplot', 'bmh', 'classic']\\nfor style in recommended:\\n    if style in available_styles:\\n        print(f\\\"  ✓ {style}\\\")\"",
   "metadata": {},
   "execution_count": null,
   "outputs": []
  },
  {
   "cell_type": "markdown",
   "source": "### 5.1 查看可用样式表\\n\\n首先了解 Matplotlib 提供了哪些内置样式：\"",
   "metadata": {}
  },
  {
   "cell_type": "markdown",
   "source": "## 5. 风格与全局配置（rcParams / 样式表）\\n\\n**学习目标**: 掌握 Matplotlib 的风格定制，创建专业美观的图表。\\n\\n优先级：**运行时 rcParams > 样式表 > matplotlibrc 文件**\"",
   "metadata": {}
  },
  {
   "cell_type": "code",
   "source": "# 简单的 Blitting 动画示例\\nfrom matplotlib.animation import FuncAnimation\\n\\n# 创建数据\\nx = np.linspace(0, 2*np.pi, 100)\\n\\nfig, ax = plt.subplots(figsize=(10, 6))\\nax.set_xlim(0, 2*np.pi)\\nax.set_ylim(-1.5, 1.5)\\nax.set_xlabel('x')\\nax.set_ylabel('y')\\nax.set_title('Blitting 动画演示')\\nax.grid(True)\\n\\n# 创建线条对象\\nline, = ax.plot([], [], 'b-', linewidth=2)\\npoint, = ax.plot([], [], 'ro', markersize=8)\\n\\ndef animate(frame):\\n    \\\"\\\"\\\"动画函数\\\"\\\"\\\"\\n    # 移动的相位\\n    phase = frame * 0.1\\n    y = np.sin(x + phase)\\n    \\n    # 更新数据\\n    line.set_data(x, y)\\n    # 添加一个移动的点\\n    point.set_data([phase % (2*np.pi)], [np.sin(phase)])\\n    \\n    return line, point\\n\\n# 创建动画（使用 blit=True 开启blitting）\\nanim = FuncAnimation(fig, animate, frames=200, interval=50, \\n                    blit=True, repeat=True)\\n\\nplt.show()\\n\\nprint(\\\"Blitting 优化要点：\\\")\\nprint(\\\"- 动画函数必须返回所有变动的艺术家对象\\\")\\nprint(\\\"- 设置 blit=True 启用blitting\\\")\\nprint(\\\"- 只重绘变动部分，性能提升显著\\\")\\nprint(\\\"- 特别适合实时数据更新场景\\\")\\n\\n# 注意：在某些环境下可能需要调用 anim.save() 或其他方法来显示动画\"",
   "metadata": {},
   "execution_count": null,
   "outputs": []
  },
  {
   "cell_type": "markdown",
   "source": "### 4.4 优化策略3：Blitting 动画\\n\\nBlitting 技术只重绘变动部分，极大提升动画性能：\"",
   "metadata": {}
  },
  {
   "cell_type": "code",
   "source": "# 创建时间序列数据进行下采样演示\\nt_full = np.linspace(0, 100, 10000)  # 10000个时间点\\ny_full = np.sin(t_full * 0.5) + 0.1 * np.random.randn(10000)  # 带噪声的信号\\n\\nfig, (ax1, ax2, ax3) = plt.subplots(3, 1, figsize=(12, 10), layout='constrained')\\n\\n# 原始数据\\nax1.plot(t_full, y_full, 'b-', linewidth=0.5)\\nax1.set_title('原始数据 (10,000 点)')\\nax1.set_ylabel('值')\\nax1.grid(True, alpha=0.3)\\n\\n# 简单下采样：每10个点取1个\\nstep = 10\\nt_sampled = t_full[::step]\\ny_sampled = y_full[::step]\\nax2.plot(t_sampled, y_sampled, 'r-o', linewidth=1, markersize=2)\\nax2.set_title(f'简单下采样 ({len(t_sampled)} 点，每{step}个取1个)')\\nax2.set_ylabel('值')\\nax2.grid(True, alpha=0.3)\\n\\n# 聚合下采样：滑动窗口平均\\nwindow_size = 50\\nn_windows = len(y_full) // window_size\\nt_aggregated = []\\ny_aggregated = []\\n\\nfor i in range(n_windows):\\n    start_idx = i * window_size\\n    end_idx = start_idx + window_size\\n    t_aggregated.append(np.mean(t_full[start_idx:end_idx]))\\n    y_aggregated.append(np.mean(y_full[start_idx:end_idx]))\\n\\nax3.plot(t_aggregated, y_aggregated, 'g-s', linewidth=2, markersize=3)\\nax3.set_title(f'聚合下采样 ({len(t_aggregated)} 点，滑动窗口平均)')\\nax3.set_xlabel('时间')\\nax3.set_ylabel('值')\\nax3.grid(True, alpha=0.3)\\n\\nplt.show()\\n\\nprint(\\\"下采样策略选择：\\\")\\nprint(\\\"- 简单下采样：快速，但可能丢失细节\\\")\\nprint(\\\"- 聚合下采样：保持趋势，适合时间序列\\\")\\nprint(\\\"- 智能采样：根据数据变化率选择关键点\\\")\"",
   "metadata": {},
   "execution_count": null,
   "outputs": []
  },
  {
   "cell_type": "markdown",
   "source": "### 4.3 优化策略2：数据下采样\\n\\n减少数据点数量，保持视觉效果的同时提升性能：\"",
   "metadata": {}
  },
  {
   "cell_type": "code",
   "source": "# 使用光栅化优化相同的数据\\nstart_time = time.time()\\n\\nfig, ax = plt.subplots(figsize=(10, 6), layout='constrained')\\n# 关键参数：rasterized=True\\nax.scatter(x_large, y_large, s=1, alpha=0.5, rasterized=True)\\nax.set_title(f'大数据集散点图 ({n_points} 点) - 光栅化优化')\\nax.set_xlabel('X')\\nax.set_ylabel('Y')\\n\\nrender_time_raster = time.time() - start_time\\nprint(f\\\"光栅化渲染时间: {render_time_raster:.2f} 秒\\\")\\nprint(f\\\"性能提升: {render_time/render_time_raster:.1f}x 倍\\\")\\nplt.show()\\n\\nprint(\\\"\\\\n光栅化适用场景：\\\")\\nprint(\\\"- 散点图、线图中有大量数据点\\\")\\nprint(\\\"- 保存PDF等矢量格式时特别有效\\\")\\nprint(\\\"- 注意：光栅化后图形元素不可无限放大\\\")\"",
   "metadata": {},
   "execution_count": null,
   "outputs": []
  },
  {
   "cell_type": "markdown",
   "source": "### 4.2 优化策略1：光栅化（rasterized）\\n\\n将大量图形元素转为位图，大大减轻矢量渲染负担：\"",
   "metadata": {}
  },
  {
   "cell_type": "code",
   "source": "import time\\n\\n# 创建大数据集\\nn_points = 50000\\nnp.random.seed(42)\\nx_large = np.random.randn(n_points)\\ny_large = np.random.randn(n_points)\\n\\nprint(f\\\"准备绘制 {n_points} 个数据点...\\\")\\n\\n# 测量渲染时间（普通方法）\\nstart_time = time.time()\\n\\nfig, ax = plt.subplots(figsize=(10, 6), layout='constrained')\\nax.scatter(x_large, y_large, s=1, alpha=0.5)  # 小点size，半透明\\nax.set_title(f'大数据集散点图 ({n_points} 点) - 普通方法')\\nax.set_xlabel('X')\\nax.set_ylabel('Y')\\n\\nrender_time = time.time() - start_time\\nprint(f\\\"渲染时间: {render_time:.2f} 秒\\\")\\nplt.show()\\n\\nprint(\\\"\\\\n观察：点数多时渲染会明显变慢，特别是在保存高分辨率图片时\\\")\"",
   "metadata": {},
   "execution_count": null,
   "outputs": []
  },
  {
   "cell_type": "markdown",
   "source": "### 4.1 问题演示：大数据集的性能问题\\n\\n先看看大数据集渲染时可能遇到的问题：\"",
   "metadata": {}
  },
  {
   "cell_type": "markdown",
   "source": "## 4. 性能优化（大数据绘图）\\n\\n**学习目标**: 掌握处理大量数据时的优化技巧，确保图表渲染流畅。\\n\\n当数据量很大时（通常>几千个点），Matplotlib 会变慢。本章教你几个关键的优化策略。\"",
   "metadata": {}
  },
  {
   "cell_type": "code",
   "source": "# 创建两条曲线（模拟预测区间）\\nx = np.linspace(0, 10, 100)\\ny_pred = np.sin(x)  # 预测值\\ny_upper = y_pred + 0.3 * np.cos(x * 2)  # 预测上界\\ny_lower = y_pred - 0.3 * np.cos(x * 2)  # 预测下界\\n\\n# 实际观测值（带噪声）\\ny_actual = y_pred + 0.2 * np.random.randn(100)\\n\\nfig, ax = plt.subplots(figsize=(12, 6), layout='constrained')\\n\\n# 绘制预测线和置信区间\\nax.plot(x, y_pred, 'b-', linewidth=2, label='预测值')\\nax.plot(x, y_upper, 'g--', alpha=0.7, label='预测上界')\\nax.plot(x, y_lower, 'g--', alpha=0.7, label='预测下界')\\nax.plot(x, y_actual, 'ro', markersize=3, alpha=0.6, label='实际观测')\\n\\n# 填充整个预测区间\\nax.fill_between(x, y_upper, y_lower, alpha=0.2, color='blue', \\n                label='预测区间')\\n\\n# 高亮实际值超出预测区间的部分（异常值）\\noutlier_mask = (y_actual > y_upper) | (y_actual < y_lower)\\nax.fill_between(x, y_upper, y_lower, where=outlier_mask,\\n                color='red', alpha=0.5, label='异常值区域')\\n\\nax.set_xlabel('x')\\nax.set_ylabel('y')\\nax.set_title('预测区间与异常值检测')\\nax.legend()\\nax.grid(True, alpha=0.3)\\n\\nplt.show()\\n\\nprint(\\\"高级用法：结合逻辑运算符（& | ~）可以创建复杂的填充条件\\\")\"",
   "metadata": {},
   "execution_count": null,
   "outputs": []
  },
  {
   "cell_type": "markdown",
   "source": "### 3.3 两条线之间的填充\\n\\n`fill_between` 也可以在两条曲线之间填充，结合 where 参数更加强大：\"",
   "metadata": {}
  },
  {
   "cell_type": "code",
   "source": "# 模拟股价数据\\nnp.random.seed(42)\\ndays = np.arange(100)\\nstock_price = 100 + np.cumsum(np.random.randn(100) * 0.5)\\n\\nfig, ax = plt.subplots(figsize=(12, 6), layout='constrained')\\n\\n# 绘制股价线\\nax.plot(days, stock_price, 'b-', linewidth=2, label='股价')\\n\\n# 设定关键价格水平\\nresistance_level = 105  # 阻力位\\nsupport_level = 95      # 支撑位\\n\\n# 高亮价格超过阻力位的区域（可能卖出信号）\\nhigh_mask = (stock_price > resistance_level)\\nax.fill_between(days, stock_price, resistance_level, \\n                where=high_mask, color='red', alpha=0.3, \\n                label=f'高于阻力位 {resistance_level}')\\n\\n# 高亮价格低于支撑位的区域（可能买入信号）\\nlow_mask = (stock_price < support_level)\\nax.fill_between(days, stock_price, support_level, \\n                where=low_mask, color='green', alpha=0.3,\\n                label=f'低于支撑位 {support_level}')\\n\\n# 添加水平参考线\\nax.axhline(y=resistance_level, color='red', linestyle='--', alpha=0.7)\\nax.axhline(y=support_level, color='green', linestyle='--', alpha=0.7)\\n\\nax.set_xlabel('交易日')\\nax.set_ylabel('股价 ($)')\\nax.set_title('股价分析：高亮关键价格区域')\\nax.legend()\\nax.grid(True, alpha=0.3)\\n\\nplt.show()\\n\\nprint(\\\"实用技巧：where 参数可以用于任何条件表达式\\\")\"",
   "metadata": {},
   "execution_count": null,
   "outputs": []
  },
  {
   "cell_type": "markdown",
   "source": "### 3.2 高亮特定数值范围\\n\\n可以高亮任意数值范围，比如标出异常值或感兴趣的区间：\"",
   "metadata": {}
  },
  {
   "cell_type": "code",
   "source": "# 创建示例数据：正弦波\\nx = np.linspace(0, 4*np.pi, 200)\\ny = np.sin(x) * np.exp(-x/8)  # 衰减的正弦波\\n\\nfig, ax = plt.subplots(figsize=(12, 6), layout='constrained')\\n\\n# 绘制主线条\\nax.plot(x, y, 'b-', linewidth=2, label='衰减正弦波')\\nax.axhline(y=0, color='k', linestyle='--', alpha=0.5)\\n\\n# 使用 where 参数只填充正值区域\\npositive_mask = (y > 0)\\nax.fill_between(x, y, 0, where=positive_mask, \\n                color='green', alpha=0.3, label='正值区域')\\n\\n# 填充负值区域\\nnegative_mask = (y < 0)\\nax.fill_between(x, y, 0, where=negative_mask, \\n                color='red', alpha=0.3, label='负值区域')\\n\\nax.set_xlabel('x')\\nax.set_ylabel('y')\\nax.set_title('使用 where 参数高亮正负值区域')\\nax.legend()\\nax.grid(True, alpha=0.3)\\n\\nplt.show()\\n\\nprint(\\\"注意：只有满足条件（y>0 或 y<0）的区域被填充了颜色\\\")\"",
   "metadata": {},
   "execution_count": null,
   "outputs": []
  },
  {
   "cell_type": "markdown",
   "source": "### 3.1 基础用法：高亮正值区域\\n\\n最常见的用法是高亮数据中的正值或负值区域：\"",
   "metadata": {}
  },
  {
   "cell_type": "markdown",
   "source": "## 3. 高亮区域：fill_between 的 \\\"where\\\" 用法\\n\\n**学习目标**: 掌握选择性填充技术，精确标示感兴趣的数据区间。\\n\\n`fill_between` 的 `where` 参数让你可以只在满足特定条件的区域进行填充，这在数据分析中非常有用。\"",
   "metadata": {}
  },
  {
   "cell_type": "code",
   "source": "# 使用传统的 tight_layout\\nfig, axs = plt.subplots(2, 2, figsize=(10, 8))\\n\\n# 添加内容\\naxs[0, 0].plot([1, 2, 3], [1, 4, 2])\\naxs[0, 0].set_title('子图 1')\\naxs[0, 0].set_xlabel('X轴')\\naxs[0, 0].set_ylabel('Y轴')\\n\\naxs[0, 1].bar(['A', 'B', 'C'], [3, 7, 5])\\naxs[0, 1].set_title('子图 2')\\naxs[0, 1].set_ylabel('数值')\\n\\naxs[1, 0].scatter([1, 2, 3, 4], [2, 5, 3, 8])\\naxs[1, 0].set_title('子图 3')\\naxs[1, 0].set_xlabel('X轴')\\naxs[1, 0].set_ylabel('Y轴')\\n\\naxs[1, 1].hist([1, 2, 2, 3, 3, 3, 4], bins=4)\\naxs[1, 1].set_title('子图 4')\\naxs[1, 1].set_xlabel('值')\\naxs[1, 1].set_ylabel('频率')\\n\\n# 调用 tight_layout 调整布局\\nplt.tight_layout(pad=0.4, w_pad=0.5, h_pad=1.0)\\nplt.show()\\n\\nprint(\\\"tight_layout 参数说明:\\\")\\nprint(\\\"- pad: 整体留白\\\")\\nprint(\\\"- w_pad: 宽度方向留白\\\")\\nprint(\\\"- h_pad: 高度方向留白\\\")\"",
   "metadata": {},
   "execution_count": null,
   "outputs": []
  },
  {
   "cell_type": "markdown",
   "source": "### 2.4 传统方法：tight_layout()\\n\\n了解传统的 `tight_layout()` 方法，简单场景仍然可用：\"",
   "metadata": {}
  },
  {
   "cell_type": "code",
   "source": "# 创建带 colorbar 的热力图\\nfig, (ax1, ax2) = plt.subplots(1, 2, figsize=(12, 5), layout='constrained')\\n\\n# 生成示例数据\\nnp.random.seed(42)\\ndata1 = np.random.random((10, 10))\\ndata2 = np.random.random((10, 10)) * 100\\n\\n# 第一个子图\\nim1 = ax1.imshow(data1, cmap='viridis')\\nax1.set_title('热力图 1')\\ncbar1 = plt.colorbar(im1, ax=ax1)\\ncbar1.set_label('数值范围 0-1')\\n\\n# 第二个子图\\nim2 = ax2.imshow(data2, cmap='plasma')\\nax2.set_title('热力图 2')\\ncbar2 = plt.colorbar(im2, ax=ax2)\\ncbar2.set_label('数值范围 0-100')\\n\\nplt.suptitle('Constrained Layout 自动处理 Colorbar')\\nplt.show()\\n\\nprint(\\\"注意：colorbar 没有挤占主图空间，布局很整洁！\\\")\"",
   "metadata": {},
   "execution_count": null,
   "outputs": []
  },
  {
   "cell_type": "markdown",
   "source": "### 2.3 Constrained Layout 处理 Colorbar\\n\\nConstrained Layout 特别擅长处理 colorbar，避免它挤占主图空间：\"",
   "metadata": {}
  },
  {
   "cell_type": "code",
   "source": "# 使用 Constrained Layout 创建相同的多子图\\nfig, axs = plt.subplots(2, 2, figsize=(10, 8), layout='constrained')  # 关键参数！\\n\\n# 添加相同的内容\\naxs[0, 0].plot([1, 2, 3], [1, 4, 2])\\naxs[0, 0].set_title('这是一个很长的标题 - 子图1')\\naxs[0, 0].set_xlabel('X轴标签')\\naxs[0, 0].set_ylabel('Y轴标签')\\n\\naxs[0, 1].bar(['A', 'B', 'C'], [3, 7, 5])\\naxs[0, 1].set_title('这也是一个很长的标题 - 子图2')\\naxs[0, 1].set_ylabel('数值')\\n\\naxs[1, 0].scatter([1, 2, 3, 4], [2, 5, 3, 8])\\naxs[1, 0].set_title('散点图 - 自动调整间距')\\naxs[1, 0].set_xlabel('X轴')\\naxs[1, 0].set_ylabel('Y轴')\\n\\naxs[1, 1].hist([1, 2, 2, 3, 3, 3, 4], bins=4)\\naxs[1, 1].set_title('直方图')\\naxs[1, 1].set_xlabel('值')\\naxs[1, 1].set_ylabel('频率')\\n\\nplt.suptitle('使用 Constrained Layout 的多子图示例', fontsize=14)\\nplt.show()\\n\\nprint(\\\"对比前一个图，注意间距自动调整，没有重叠！\\\")\"",
   "metadata": {},
   "execution_count": null,
   "outputs": []
  },
  {
   "cell_type": "markdown",
   "source": "### 2.2 使用 Constrained Layout 解决问题\\n\\n现代推荐的方法：使用 `layout='constrained'` 参数：\"",
   "metadata": {}
  },
  {
   "cell_type": "code",
   "source": "# 创建一个有重叠问题的多子图\\nfig, axs = plt.subplots(2, 2, figsize=(10, 8))  # 没有使用layout参数\\n\\n# 为每个子图添加内容\\naxs[0, 0].plot([1, 2, 3], [1, 4, 2])\\naxs[0, 0].set_title('这是一个很长的标题 - 子图1')\\naxs[0, 0].set_xlabel('X轴标签')\\naxs[0, 0].set_ylabel('Y轴标签')\\n\\naxs[0, 1].bar(['A', 'B', 'C'], [3, 7, 5])\\naxs[0, 1].set_title('这也是一个很长的标题 - 子图2')\\naxs[0, 1].set_ylabel('数值')\\n\\naxs[1, 0].scatter([1, 2, 3, 4], [2, 5, 3, 8])\\naxs[1, 0].set_title('散点图 - 可能与上面重叠')\\naxs[1, 0].set_xlabel('X轴')\\naxs[1, 0].set_ylabel('Y轴')\\n\\naxs[1, 1].hist([1, 2, 2, 3, 3, 3, 4], bins=4)\\naxs[1, 1].set_title('直方图')\\naxs[1, 1].set_xlabel('值')\\naxs[1, 1].set_ylabel('频率')\\n\\nplt.suptitle('没有布局管理的多子图示例（可能重叠）', fontsize=14)\\nplt.show()\\n\\nprint(\\\"注意观察：标题和轴标签可能重叠或被截断\\\")\"",
   "metadata": {},
   "execution_count": null,
   "outputs": []
  },
  {
   "cell_type": "markdown",
   "source": "### 2.1 对比：没有布局管理的问题\\n\\n首先看看不使用布局管理时会出现什么问题：\"",
   "metadata": {}
  },
  {
   "cell_type": "markdown",
   "source": "## 2. 布局引擎：优先使用 Constrained Layout\\n\\n**学习目标**: 掌握现代化的布局管理，让子图自动调整间距，避免重叠问题。\\n\\nMatplotlib 提供了几种布局引擎，其中 Constrained Layout 是目前最推荐的方法。\"",
   "metadata": {}
  },
  {
   "cell_type": "code",
   "source": "# 关闭交互模式\\nplt.ioff()\\nprint(f\\\"交互模式已关闭，当前状态: {plt.isinteractive()}\\\")\\n\\n# 小贴士：在jupyter notebook中，通常不需要手动管理交互模式\\n# 但了解这些概念对理解matplotlib的工作原理很重要\"",
   "metadata": {},
   "execution_count": null,
   "outputs": []
  },
  {
   "cell_type": "markdown",
   "source": "### 1.4 关闭交互模式\\n\\n完成交互操作后，记得关闭交互模式：\"",
   "metadata": {}
  },
  {
   "cell_type": "code",
   "source": "# 创建一个简单的图表\\nplt.figure(figsize=(8, 6))\\nx = np.linspace(0, 2*np.pi, 100)\\ny = np.sin(x)\\nplt.plot(x, y, label='sin(x)')\\nplt.xlabel('x')\\nplt.ylabel('y')\\nplt.title('非阻塞显示示例')\\nplt.legend()\\nplt.grid(True)\\n\\n# 非阻塞显示\\nplt.show(block=False)\\n\\n# 程序继续执行\\nprint(\\\"图表已显示，程序继续运行...\\\")\\nprint(\\\"你可以继续运行其他代码而不用等待关闭图表窗口\\\")\"",
   "metadata": {},
   "execution_count": null,
   "outputs": []
  },
  {
   "cell_type": "markdown",
   "source": "### 1.3 非阻塞显示窗口\\n\\n使用 `show(block=False)` 可以显示图表但不阻塞程序继续执行：\"",
   "metadata": {}
  },
  {
   "cell_type": "code",
   "source": "# 开启交互模式\\nplt.ion()\\n\\n# 创建图表\\nfig, ax = plt.subplots()\\nline, = ax.plot([], [], 'b-o')\\nax.set_xlim(0, 10)\\nax.set_ylim(0, 10)\\nax.set_title('动态更新示例')\\n\\n# 模拟动态数据更新\\nfor i in range(1, 11):\\n    x_data = list(range(i))\\n    y_data = [np.sin(x/2) * 3 + 5 for x in x_data]\\n    \\n    line.set_data(x_data, y_data)\\n    plt.pause(0.5)  # 暂停0.5秒，触发重绘\\n    \\nprint(\\\"动画完成！\\\")\"",
   "metadata": {},
   "execution_count": null,
   "outputs": []
  },
  {
   "cell_type": "markdown",
   "source": "### 1.2 开启交互模式进行动态更新\\n\\n`plt.ion()` 开启交互模式，配合 `plt.pause()` 可以实现动态更新：\"",
   "metadata": {}
  },
  {
   "cell_type": "code",
   "source": "import matplotlib.pyplot as plt\\nimport numpy as np\\n\\n# 检查当前交互模式状态\\nprint(f\\\"交互模式是否开启: {plt.isinteractive()}\\\")\\nprint(f\\\"当前后端: {plt.get_backend()}\\\")\"",
   "metadata": {},
   "execution_count": null,
   "outputs": []
  },
  {
   "cell_type": "markdown",
   "source": "### 1.1 交互模式基础\\n\\n首先了解什么是交互模式。运行下面代码看看 Matplotlib 当前的交互状态：\"",
   "metadata": {}
  },
  {
   "cell_type": "markdown",
   "source": "## 1. 非阻塞显示 & 交互更新\\n\\n**学习目标**: 让程序继续运行，窗口不被 `show()` 卡住，同时能动态更新图表。\\n\\n这是 Matplotlib 中一个重要概念，特别是在需要动态更新图表或不想程序被图形窗口阻塞时。\"",
   "metadata": {}
  },
  {
   "cell_type": "markdown",
   "metadata": {},
   "source": [
    "# Matplotlib 速查教程 - 交互式学习版\n",
    "\n",
    "本教程将带你逐步掌握 Matplotlib 的核心技巧。每个 cell 专注于一个小知识点，运行代码并观察结果，逐步建立你的 Matplotlib 技能树。"
   ]
  }
 ],
 "metadata": {
  "kernelspec": {
   "display_name": "Python 3",
   "language": "python",
   "name": "python3"
  },
  "language_info": {
   "codemirror_mode": {
    "name": "ipython",
    "version": 3
   },
   "file_extension": ".py",
   "mimetype": "text/x-python",
   "name": "python",
   "nbconvert_exporter": "python",
   "pygments_lexer": "ipython3",
   "version": "3.8.5"
  }
 },
 "nbformat": 4,
 "nbformat_minor": 4
}